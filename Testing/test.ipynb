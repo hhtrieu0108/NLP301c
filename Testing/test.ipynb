{
 "cells": [
  {
   "cell_type": "code",
   "execution_count": 1,
   "metadata": {},
   "outputs": [],
   "source": [
    "import numpy as np"
   ]
  },
  {
   "cell_type": "code",
   "execution_count": 3,
   "metadata": {},
   "outputs": [],
   "source": [
    "a = np.array([[1,2,3],\n",
    "             [3,4,5]])"
   ]
  },
  {
   "cell_type": "code",
   "execution_count": 7,
   "metadata": {},
   "outputs": [
    {
     "data": {
      "text/plain": [
       "2"
      ]
     },
     "execution_count": 7,
     "metadata": {},
     "output_type": "execute_result"
    }
   ],
   "source": [
    "len(a)"
   ]
  },
  {
   "cell_type": "code",
   "execution_count": 1,
   "metadata": {},
   "outputs": [],
   "source": [
    "freqs = {('followfriday', 1.0): 23,\n",
    " ('top', 1.0): 30,\n",
    " ('engag', 1.0): 7,\n",
    " ('member', 1.0): 14,\n",
    " ('commun', 1.0): 27,\n",
    " ('week', 1.0): 72,\n",
    " (':)', 1.0): 2960,\n",
    " ('hey', 1.0): 60,\n",
    " ('jame', 1.0): 7,\n",
    " ('odd', 1.0): 2,\n",
    " (':/', 1.0): 5,\n",
    " ('pleas', 1.0): 81,\n",
    " ('call', 1.0): 27,\n",
    " ('contact', 1.0): 4,\n",
    " ('centr', 1.0): 1,\n",
    " ('02392441234', 1.0): 1,\n",
    " ('abl', 1.0): 6,\n",
    " ('assist', 1.0): 1,\n",
    " ('mani', 1.0): 28,\n",
    " ('thank', 1.0): 522,\n",
    " ('listen', 1.0): 15,\n",
    " ('last', 1.0): 39,\n",
    " ('night', 1.0): 55,\n",
    " ('bleed', 1.0): 2,\n",
    " ('amaz', 1.0): 41,\n",
    " ('track', 1.0): 5\n",
    "}"
   ]
  },
  {
   "cell_type": "code",
   "execution_count": 24,
   "metadata": {},
   "outputs": [
    {
     "data": {
      "text/plain": [
       "26"
      ]
     },
     "execution_count": 24,
     "metadata": {},
     "output_type": "execute_result"
    }
   ],
   "source": [
    "vocab = [pair[0] for pair in freqs.keys()]\n",
    "V = len(set(vocab))\n",
    "V"
   ]
  },
  {
   "cell_type": "code",
   "execution_count": 36,
   "metadata": {},
   "outputs": [
    {
     "name": "stdout",
     "output_type": "stream",
     "text": [
      "1.0\n",
      "1.0\n",
      "1.0\n",
      "1.0\n",
      "1.0\n",
      "1.0\n",
      "1.0\n",
      "1.0\n",
      "1.0\n",
      "1.0\n",
      "1.0\n",
      "1.0\n",
      "1.0\n",
      "1.0\n",
      "1.0\n",
      "1.0\n",
      "1.0\n",
      "1.0\n",
      "1.0\n",
      "1.0\n",
      "1.0\n",
      "1.0\n",
      "1.0\n",
      "1.0\n",
      "1.0\n",
      "1.0\n"
     ]
    }
   ],
   "source": [
    "for key in freqs.keys():\n",
    "    word, _ = key\n",
    "    print(_)"
   ]
  },
  {
   "cell_type": "code",
   "execution_count": 12,
   "metadata": {},
   "outputs": [],
   "source": [
    "import pandas as pd\n",
    "df = pd.read_csv(\"https://github.com/hhtrieu0108/Ohitv_End_To_End_Project/raw/refs/heads/main/data/ohitv_film.csv\")"
   ]
  },
  {
   "cell_type": "code",
   "execution_count": null,
   "metadata": {},
   "outputs": [],
   "source": []
  }
 ],
 "metadata": {
  "kernelspec": {
   "display_name": "Python 3",
   "language": "python",
   "name": "python3"
  },
  "language_info": {
   "codemirror_mode": {
    "name": "ipython",
    "version": 3
   },
   "file_extension": ".py",
   "mimetype": "text/x-python",
   "name": "python",
   "nbconvert_exporter": "python",
   "pygments_lexer": "ipython3",
   "version": "3.10.9"
  }
 },
 "nbformat": 4,
 "nbformat_minor": 2
}
