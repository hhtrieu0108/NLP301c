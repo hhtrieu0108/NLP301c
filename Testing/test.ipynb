{
 "cells": [
  {
   "cell_type": "code",
   "execution_count": 1,
   "metadata": {},
   "outputs": [],
   "source": [
    "import numpy as np"
   ]
  },
  {
   "cell_type": "code",
   "execution_count": 3,
   "metadata": {},
   "outputs": [],
   "source": [
    "a = np.array([[1,2,3],\n",
    "             [3,4,5]])"
   ]
  },
  {
   "cell_type": "code",
   "execution_count": 7,
   "metadata": {},
   "outputs": [
    {
     "data": {
      "text/plain": [
       "2"
      ]
     },
     "execution_count": 7,
     "metadata": {},
     "output_type": "execute_result"
    }
   ],
   "source": [
    "len(a)"
   ]
  },
  {
   "cell_type": "code",
   "execution_count": 1,
   "metadata": {},
   "outputs": [],
   "source": [
    "freqs = {('followfriday', 1.0): 23,\n",
    " ('top', 1.0): 30,\n",
    " ('engag', 1.0): 7,\n",
    " ('member', 1.0): 14,\n",
    " ('commun', 1.0): 27,\n",
    " ('week', 1.0): 72,\n",
    " (':)', 1.0): 2960,\n",
    " ('hey', 1.0): 60,\n",
    " ('jame', 1.0): 7,\n",
    " ('odd', 1.0): 2,\n",
    " (':/', 1.0): 5,\n",
    " ('pleas', 1.0): 81,\n",
    " ('call', 1.0): 27,\n",
    " ('contact', 1.0): 4,\n",
    " ('centr', 1.0): 1,\n",
    " ('02392441234', 1.0): 1,\n",
    " ('abl', 1.0): 6,\n",
    " ('assist', 1.0): 1,\n",
    " ('mani', 1.0): 28,\n",
    " ('thank', 1.0): 522,\n",
    " ('listen', 1.0): 15,\n",
    " ('last', 1.0): 39,\n",
    " ('night', 1.0): 55,\n",
    " ('bleed', 1.0): 2,\n",
    " ('amaz', 1.0): 41,\n",
    " ('track', 1.0): 5\n",
    "}"
   ]
  },
  {
   "cell_type": "code",
   "execution_count": 24,
   "metadata": {},
   "outputs": [
    {
     "data": {
      "text/plain": [
       "26"
      ]
     },
     "execution_count": 24,
     "metadata": {},
     "output_type": "execute_result"
    }
   ],
   "source": [
    "vocab = [pair[0] for pair in freqs.keys()]\n",
    "V = len(set(vocab))\n",
    "V"
   ]
  },
  {
   "cell_type": "code",
   "execution_count": 36,
   "metadata": {},
   "outputs": [
    {
     "name": "stdout",
     "output_type": "stream",
     "text": [
      "1.0\n",
      "1.0\n",
      "1.0\n",
      "1.0\n",
      "1.0\n",
      "1.0\n",
      "1.0\n",
      "1.0\n",
      "1.0\n",
      "1.0\n",
      "1.0\n",
      "1.0\n",
      "1.0\n",
      "1.0\n",
      "1.0\n",
      "1.0\n",
      "1.0\n",
      "1.0\n",
      "1.0\n",
      "1.0\n",
      "1.0\n",
      "1.0\n",
      "1.0\n",
      "1.0\n",
      "1.0\n",
      "1.0\n"
     ]
    }
   ],
   "source": [
    "for key in freqs.keys():\n",
    "    word, _ = key\n",
    "    print(_)"
   ]
  },
  {
   "cell_type": "code",
   "execution_count": 3,
   "metadata": {},
   "outputs": [],
   "source": [
    "import pandas as pd\n",
    "df = pd.read_csv(\"https://github.com/hhtrieu0108/Ohitv_End_To_End_Project/raw/refs/heads/main/data/ohitv_film.csv\")"
   ]
  },
  {
   "cell_type": "code",
   "execution_count": 12,
   "metadata": {},
   "outputs": [],
   "source": [
    "x = np.array([[1,2,3],\n",
    "              [4,5,6]])"
   ]
  },
  {
   "cell_type": "code",
   "execution_count": 16,
   "metadata": {},
   "outputs": [],
   "source": [
    "a = np.cov(x)"
   ]
  },
  {
   "cell_type": "code",
   "execution_count": 18,
   "metadata": {},
   "outputs": [],
   "source": [
    "eigh_val , eigh_vec  = np.linalg.eigh(a)"
   ]
  },
  {
   "cell_type": "code",
   "execution_count": 23,
   "metadata": {},
   "outputs": [],
   "source": [
    "aa = eigh_vec.sort()"
   ]
  },
  {
   "cell_type": "code",
   "execution_count": 35,
   "metadata": {},
   "outputs": [],
   "source": [
    "idx_sorted = np.argsort(eigh_val)\n",
    "\n",
    "# reverse the order so that it's from highest to lowest.\n",
    "idx_sorted_decreasing = idx_sorted[::-1]\n",
    "\n",
    "# sort the eigen values by idx_sorted_decreasing\n",
    "eigh_val_sorted = eigh_val[idx_sorted_decreasing]\n",
    "\n",
    "# sort eigenvectors using the idx_sorted_decreasing indices\n",
    "eigh_vec_sorted = eigh_vec[:, idx_sorted_decreasing]\n",
    "eigh_vec_sorted_1 = eigh_vec[ idx_sorted_decreasing]\n",
    "\n",
    "# select the first n eigenvectors (n is desired dimension\n",
    "# of rescaled data array, or n_components)\n",
    "\n",
    "eigh_vec_subset = eigh_vec_sorted[:, :2]"
   ]
  },
  {
   "cell_type": "code",
   "execution_count": 37,
   "metadata": {},
   "outputs": [
    {
     "data": {
      "text/plain": [
       "array([[ 0.70710678, -0.70710678],\n",
       "       [ 0.70710678,  0.70710678]])"
      ]
     },
     "metadata": {},
     "output_type": "display_data"
    },
    {
     "data": {
      "text/plain": [
       "array([[ 0.70710678,  0.70710678],\n",
       "       [-0.70710678,  0.70710678]])"
      ]
     },
     "metadata": {},
     "output_type": "display_data"
    }
   ],
   "source": [
    "display(eigh_vec_sorted, eigh_vec_sorted_1)"
   ]
  },
  {
   "cell_type": "code",
   "execution_count": 1,
   "metadata": {},
   "outputs": [],
   "source": [
    "import numpy as np\n",
    "\n",
    "x = np.array([[1,1]])\n",
    "P = np.array([[2,1]])"
   ]
  },
  {
   "cell_type": "code",
   "execution_count": 3,
   "metadata": {},
   "outputs": [],
   "source": [
    "dot = np.dot(P, x.T)"
   ]
  },
  {
   "cell_type": "code",
   "execution_count": 6,
   "metadata": {},
   "outputs": [
    {
     "data": {
      "text/plain": [
       "array([[1]])"
      ]
     },
     "execution_count": 6,
     "metadata": {},
     "output_type": "execute_result"
    }
   ],
   "source": [
    "sign = np.sign(dot)\n",
    "sign"
   ]
  },
  {
   "cell_type": "code",
   "execution_count": 16,
   "metadata": {},
   "outputs": [
    {
     "data": {
      "text/plain": [
       "2"
      ]
     },
     "execution_count": 16,
     "metadata": {},
     "output_type": "execute_result"
    }
   ],
   "source": [
    "sign_scalar = P[0][0].item()\n",
    "sign_scalar\n"
   ]
  },
  {
   "cell_type": "code",
   "execution_count": null,
   "metadata": {},
   "outputs": [],
   "source": []
  }
 ],
 "metadata": {
  "kernelspec": {
   "display_name": "Python 3",
   "language": "python",
   "name": "python3"
  },
  "language_info": {
   "codemirror_mode": {
    "name": "ipython",
    "version": 3
   },
   "file_extension": ".py",
   "mimetype": "text/x-python",
   "name": "python",
   "nbconvert_exporter": "python",
   "pygments_lexer": "ipython3",
   "version": "3.10.9"
  }
 },
 "nbformat": 4,
 "nbformat_minor": 2
}
